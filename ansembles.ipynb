{
 "cells": [
  {
   "cell_type": "markdown",
   "metadata": {},
   "source": [
    "# ensemble_emotion_simulation"
   ]
  },
  {
   "cell_type": "code",
   "execution_count": 32,
   "metadata": {
    "collapsed": true
   },
   "outputs": [],
   "source": [
    "import glob\n",
    "import librosa\n",
    "import librosa.display\n",
    "import numpy as np\n",
    "import _pickle as pickle\n",
    "import pandas as pd"
   ]
  },
  {
   "cell_type": "code",
   "execution_count": 33,
   "metadata": {
    "collapsed": true
   },
   "outputs": [],
   "source": [
    "classes = {0: 'angry', 1: 'disgust', 2: 'fear', 3: 'happy', 4: 'neutral', 5: 'sad', 6: 'surprise'}\n",
    "\n",
    "\n",
    "def extract_feature(file_name):\n",
    "    X, sample_rate = librosa.load(file_name)\n",
    "    stft = np.abs(librosa.stft(X))\n",
    "    mfccs = np.mean(librosa.feature.mfcc(y=X, sr=sample_rate, n_mfcc=40).T, axis=0)\n",
    "    chroma = np.mean(librosa.feature.chroma_stft(S=stft, sr=sample_rate).T, axis=0)\n",
    "    mel = np.mean(librosa.feature.melspectrogram(X, sr=sample_rate).T, axis=0)\n",
    "    contrast = np.mean(librosa.feature.spectral_contrast(S=stft, sr=sample_rate).T, axis=0)\n",
    "    tonnetz = np.mean(librosa.feature.tonnetz(y=librosa.effects.harmonic(X),\n",
    "                                              sr=sample_rate).T, axis=0)\n",
    "    return mfccs, chroma, mel, contrast, tonnetz\n",
    "\n",
    "\n",
    "target_files = []"
   ]
  },
  {
   "cell_type": "code",
   "execution_count": 34,
   "metadata": {
    "collapsed": true
   },
   "outputs": [],
   "source": [
    "def parse_audio_files(path):\n",
    "    features = np.empty((0, 193))\n",
    "    for fn in glob.glob(path):\n",
    "        try:\n",
    "            mfccs, chroma, mel, contrast, tonnetz = extract_feature(fn)\n",
    "        except Exception as e:\n",
    "            print(\"Error encountered while parsing file: \", fn)\n",
    "            continue\n",
    "        ext_features = np.hstack([mfccs, chroma, mel, contrast, tonnetz])\n",
    "        features = np.vstack([features, ext_features])\n",
    "        target_files.append(fn)\n",
    "    return np.array(features)"
   ]
  },
  {
   "cell_type": "code",
   "execution_count": 36,
   "metadata": {},
   "outputs": [
    {
     "name": "stdout",
     "output_type": "stream",
     "text": [
      "Input File:  C:/Users/Dell/Documents/Project Files/new_test_sounds\\YAF_luck_happy.wav |  Predicted Emotion Is: happy\n",
      "Input File:  C:/Users/Dell/Documents/Project Files/new_test_sounds\\YAF_rain_ps.wav |  Predicted Emotion Is: surprise\n",
      "Input File:  C:/Users/Dell/Documents/Project Files/new_test_sounds\\YAF_tell_angry.wav |  Predicted Emotion Is: angry\n"
     ]
    }
   ],
   "source": [
    "ts_features = parse_audio_files('C:/Users/Dell/Documents/Project Files/new_test_sounds/*.wav')\n",
    "tr_features = np.array(ts_features, dtype=pd.Series)\n",
    "\n",
    "filename = 'C:/Users/Dell/Documents/Project Files/Ensemble_Model_protocol2.sav'\n",
    "model = pickle.load(open(filename, 'rb'))\n",
    "\n",
    "prediction = model.predict(ts_features)\n",
    "\n",
    "for i, val in enumerate(prediction):\n",
    "    print(\"Input File: \", target_files[i], \"|\", \" Predicted Emotion Is:\", classes[int(val)])"
   ]
  },
  {
   "cell_type": "markdown",
   "metadata": {
    "collapsed": true
   },
   "source": [
    "# ensemble_emotion_training"
   ]
  },
  {
   "cell_type": "code",
   "execution_count": 24,
   "metadata": {
    "collapsed": true
   },
   "outputs": [],
   "source": [
    "import glob\n",
    "import librosa\n",
    "import librosa.display\n",
    "import numpy as np\n",
    "import _pickle as pickle\n",
    "from sklearn import svm\n",
    "from sklearn import model_selection\n",
    "from sklearn.ensemble import VotingClassifier\n",
    "import pandas as pd\n",
    "from sklearn.grid_search import GridSearchCV"
   ]
  },
  {
   "cell_type": "code",
   "execution_count": 25,
   "metadata": {
    "collapsed": true
   },
   "outputs": [],
   "source": [
    "def extract_feature(file_name):\n",
    "    X, sample_rate = librosa.load(file_name)\n",
    "    stft = np.abs(librosa.stft(X))\n",
    "    mfccs = np.mean(librosa.feature.mfcc(y=X, sr=sample_rate, n_mfcc=40).T, axis=0)\n",
    "    chroma = np.mean(librosa.feature.chroma_stft(S=stft, sr=sample_rate).T, axis=0)\n",
    "    mel = np.mean(librosa.feature.melspectrogram(X, sr=sample_rate).T, axis=0)\n",
    "    contrast = np.mean(librosa.feature.spectral_contrast(S=stft, sr=sample_rate).T, axis=0)\n",
    "    tonnetz = np.mean(librosa.feature.tonnetz(y=librosa.effects.harmonic(X),\n",
    "                                              sr=sample_rate).T, axis=0)\n",
    "    return mfccs, chroma, mel, contrast, tonnetz"
   ]
  },
  {
   "cell_type": "code",
   "execution_count": 26,
   "metadata": {
    "collapsed": true
   },
   "outputs": [],
   "source": [
    "def parse_audio_files(path):\n",
    "    features, labels = np.empty((0, 193)), np.empty(0)\n",
    "    labels = []\n",
    "    for fn in glob.glob(path):\n",
    "        try:\n",
    "            mfccs, chroma, mel, contrast, tonnetz = extract_feature(fn)\n",
    "        except Exception as e:\n",
    "            print(\"Error encountered while parsing file: \", fn)\n",
    "            continue\n",
    "        ext_features = np.hstack([mfccs, chroma, mel, contrast, tonnetz])\n",
    "        features = np.vstack([features, ext_features])\n",
    "        labels = np.append(labels, fn.split('/')[4].split('-')[1].split('.')[0])\n",
    "    return np.array(features), np.array(labels, dtype=np.int)"
   ]
  },
  {
   "cell_type": "code",
   "execution_count": 27,
   "metadata": {
    "collapsed": true
   },
   "outputs": [],
   "source": [
    "tr_features, tr_labels = parse_audio_files('C:/Users/Dell\\Documents/Project Files/train_sounds/*.wav')\n",
    "\n",
    "tr_features = np.array(tr_features, dtype=pd.Series)\n",
    "tr_labels = np.array(tr_labels, dtype=pd.Series)"
   ]
  },
  {
   "cell_type": "code",
   "execution_count": 28,
   "metadata": {},
   "outputs": [
    {
     "data": {
      "text/plain": [
       "SVC(C=1000, cache_size=200, class_weight=None, coef0=0.0,\n",
       "  decision_function_shape=None, degree=3, gamma='auto', kernel='linear',\n",
       "  max_iter=-1, probability=False, random_state=None, shrinking=True,\n",
       "  tol=0.001, verbose=False)"
      ]
     },
     "execution_count": 28,
     "metadata": {},
     "output_type": "execute_result"
    }
   ],
   "source": [
    "model1 = svm.SVC(kernel='linear', C=1000, gamma='auto')\n",
    "model1.fit(X=tr_features.astype(int), y=tr_labels.astype(int))"
   ]
  },
  {
   "cell_type": "code",
   "execution_count": 29,
   "metadata": {},
   "outputs": [
    {
     "data": {
      "text/plain": [
       "SVC(C=1000, cache_size=200, class_weight=None, coef0=0.0,\n",
       "  decision_function_shape=None, degree=3, gamma='auto', kernel='rbf',\n",
       "  max_iter=-1, probability=False, random_state=None, shrinking=True,\n",
       "  tol=0.001, verbose=False)"
      ]
     },
     "execution_count": 29,
     "metadata": {},
     "output_type": "execute_result"
    }
   ],
   "source": [
    "model2 = svm.SVC(kernel='rbf', C=1000, gamma='auto')\n",
    "model2.fit(X=tr_features.astype(int), y=tr_labels.astype(int))"
   ]
  },
  {
   "cell_type": "code",
   "execution_count": 30,
   "metadata": {
    "collapsed": true
   },
   "outputs": [],
   "source": [
    "seed = 7\n",
    "kfold = model_selection.KFold(n_splits=10, random_state=seed)\n",
    "estimators = [('linear', model1), ('rbf', model2)]\n",
    "ensemble = VotingClassifier(estimators)"
   ]
  },
  {
   "cell_type": "code",
   "execution_count": 31,
   "metadata": {},
   "outputs": [
    {
     "name": "stdout",
     "output_type": "stream",
     "text": [
      "Your Model has Saved..\n",
      "cheers   :)\n"
     ]
    }
   ],
   "source": [
    "results = model_selection.cross_val_score(ensemble, tr_features.astype(int), tr_labels.astype(int), cv=kfold)\n",
    "ensemble.fit(X=tr_features.astype(int), y=tr_labels.astype(int))\n",
    "\n",
    "filename = ('C:/Users/Dell/Documents/Project Files/Ensemble_Model_protocol2.sav')\n",
    "\n",
    "pickle.dump(ensemble, open(filename, 'wb'), protocol=2)\n",
    "\n",
    "print('Your Model has Saved..')\n",
    "print ('cheers   :)')"
   ]
  },
  {
   "cell_type": "code",
   "execution_count": null,
   "metadata": {
    "collapsed": true
   },
   "outputs": [],
   "source": []
  }
 ],
 "metadata": {
  "anaconda-cloud": {},
  "kernelspec": {
   "display_name": "Python [default]",
   "language": "python",
   "name": "python3"
  },
  "language_info": {
   "codemirror_mode": {
    "name": "ipython",
    "version": 3
   },
   "file_extension": ".py",
   "mimetype": "text/x-python",
   "name": "python",
   "nbconvert_exporter": "python",
   "pygments_lexer": "ipython3",
   "version": "3.5.2"
  }
 },
 "nbformat": 4,
 "nbformat_minor": 1
}
