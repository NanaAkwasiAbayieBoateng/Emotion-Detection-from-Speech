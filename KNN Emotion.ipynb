{
 "cells": [
  {
   "cell_type": "code",
   "execution_count": 1,
   "metadata": {},
   "outputs": [
    {
     "name": "stdout",
     "output_type": "stream",
     "text": [
      "./train_sounds_3\\OAF_back_angry.wav\n",
      "./train_sounds_3\\OAF_back_disgust.wav\n",
      "./train_sounds_3\\OAF_back_fear.wav\n",
      "./train_sounds_3\\OAF_back_happy.wav\n",
      "./train_sounds_3\\OAF_back_neutral.wav\n",
      "./train_sounds_3\\OAF_back_ps.wav\n",
      "./train_sounds_3\\OAF_back_sad.wav\n",
      "./train_sounds_3\\OAF_bar_angry.wav\n",
      "./train_sounds_3\\OAF_bar_disgust.wav\n",
      "./train_sounds_3\\OAF_bar_fear.wav\n",
      "./train_sounds_3\\OAF_bar_happy.wav\n",
      "./train_sounds_3\\OAF_bar_neutral.wav\n",
      "./train_sounds_3\\OAF_bar_ps.wav\n",
      "./train_sounds_3\\OAF_bar_sad.wav\n",
      "./train_sounds_3\\OAF_base_angry.wav\n",
      "./train_sounds_3\\OAF_base_disgust.wav\n",
      "./train_sounds_3\\OAF_base_fear.wav\n",
      "./train_sounds_3\\OAF_base_happy.wav\n",
      "./train_sounds_3\\OAF_base_neutral.wav\n",
      "./train_sounds_3\\OAF_base_ps.wav\n",
      "./train_sounds_3\\OAF_base_sad.wav\n",
      "./train_sounds_3\\OAF_bath_angry.wav\n",
      "./train_sounds_3\\OAF_bath_disgust.wav\n",
      "./train_sounds_3\\OAF_bath_fear.wav\n",
      "./train_sounds_3\\OAF_bath_happy.wav\n",
      "./train_sounds_3\\OAF_bath_neutral.wav\n",
      "./train_sounds_3\\OAF_bath_ps.wav\n",
      "./train_sounds_3\\OA_bite_neutral.wav\n",
      "['back' 'back' 'back' 'back' 'back' 'back' 'back' 'bar' 'bar' 'bar' 'bar'\n",
      " 'bar' 'bar' 'bar' 'base' 'base' 'base' 'base' 'base' 'base' 'base' 'bath'\n",
      " 'bath' 'bath' 'bath' 'bath' 'bath' 'bite']\n",
      "Model Saved..\n",
      "Score: 0.5\n"
     ]
    }
   ],
   "source": [
    "import glob\n",
    "import librosa\n",
    "import librosa.display\n",
    "import numpy as np\n",
    "import _pickle as pickle\n",
    "from sklearn import svm\n",
    "from sklearn import model_selection\n",
    "from sklearn.ensemble import VotingClassifier\n",
    "import pandas as pd\n",
    "from sklearn.metrics import confusion_matrix\n",
    "from sklearn.neighbors import KNeighborsClassifier\n",
    "\n",
    "\n",
    "def extract_feature(file_name):\n",
    "    X, sample_rate = librosa.load(file_name)\n",
    "    stft = np.abs(librosa.stft(X))\n",
    "    mfccs = np.mean(librosa.feature.mfcc(y=X, sr=sample_rate, n_mfcc=40).T, axis=0)\n",
    "    chroma = np.mean(librosa.feature.chroma_stft(S=stft, sr=sample_rate).T, axis=0)\n",
    "    mel = np.mean(librosa.feature.melspectrogram(X, sr=sample_rate).T, axis=0)\n",
    "    contrast = np.mean(librosa.feature.spectral_contrast(S=stft, sr=sample_rate).T, axis=0)\n",
    "    tonnetz = np.mean(librosa.feature.tonnetz(y=librosa.effects.harmonic(X),\n",
    "                                              sr=sample_rate).T, axis=0)\n",
    "    return mfccs, chroma, mel, contrast, tonnetz\n",
    "\n",
    "\n",
    "def parse_audio_files(path):\n",
    "    features, labels = np.empty((0, 193)), np.empty(0)\n",
    "    labels = []\n",
    "    for fn in glob.glob(path):\n",
    "        try:\n",
    "            mfccs, chroma, mel, contrast, tonnetz = extract_feature(fn)\n",
    "        except Exception as e:\n",
    "            print(\"Error encountered while parsing file: \", fn)\n",
    "            continue\n",
    "        ext_features = np.hstack([mfccs, chroma, mel, contrast, tonnetz])\n",
    "        features = np.vstack([features, ext_features])\n",
    "        labels = np.append(labels, fn.split(\"_\")[3].split(\".\")[0])\n",
    "        print(fn)\n",
    "    return np.array(features), np.array(labels)\n",
    "\n",
    "\n",
    "tr_features, tr_labels = parse_audio_files('./train_sounds_3/*.wav')\n",
    "\n",
    "print(tr_labels)\n",
    "\n",
    "tr_features = np.array(tr_features, dtype=pd.Series)\n",
    "tr_labels = np.array(tr_labels, dtype=pd.Series)\n",
    "\n",
    "X=tr_features.astype(int)\n",
    "y=tr_labels.astype(str)\n",
    "\n",
    "\n",
    "neigh = KNeighborsClassifier(n_neighbors=7)\n",
    "neigh.fit(X, y)\n",
    "# print(neigh.predict([[7.193]]))\n",
    "# print(neigh.predict_proba([[0.9]]))\n",
    "\n",
    "filename = 'Ensemble_Model_protocol_knn.sav'\n",
    "\n",
    "pickle.dump(neigh, open(filename, 'wb'), protocol=2)\n",
    "\n",
    "print('Model Saved..')\n",
    "print('Score:', neigh.score(X=tr_features.astype(int), y=tr_labels.astype(str)))"
   ]
  },
  {
   "cell_type": "code",
   "execution_count": 3,
   "metadata": {},
   "outputs": [
    {
     "data": {
      "text/plain": [
       "(28, 193)"
      ]
     },
     "execution_count": 3,
     "metadata": {},
     "output_type": "execute_result"
    }
   ],
   "source": [
    "tr_features.shape"
   ]
  },
  {
   "cell_type": "code",
   "execution_count": 4,
   "metadata": {},
   "outputs": [
    {
     "data": {
      "text/plain": [
       "(28,)"
      ]
     },
     "execution_count": 4,
     "metadata": {},
     "output_type": "execute_result"
    }
   ],
   "source": [
    "tr_labels.shape"
   ]
  },
  {
   "cell_type": "code",
   "execution_count": 2,
   "metadata": {},
   "outputs": [
    {
     "name": "stdout",
     "output_type": "stream",
     "text": [
      "Accuracy Score: 0.833333333333\n",
      "Number of correct prediction: 5 out of 6\n"
     ]
    }
   ],
   "source": [
    "import glob\n",
    "import librosa\n",
    "import librosa.display\n",
    "import numpy as np\n",
    "import _pickle as pickle\n",
    "import pandas as pd\n",
    "from sklearn.metrics import accuracy_score\n",
    "from sklearn.metrics import confusion_matrix\n",
    "import matplotlib.pyplot as plt\n",
    "import seaborn as sn\n",
    "\n",
    "\n",
    "# Method to extract features from speech using librosa\n",
    "\n",
    "\n",
    "def extract_feature(file_name):\n",
    "    X, sample_rate = librosa.load(file_name)\n",
    "    stft = np.abs(librosa.stft(X))\n",
    "    mfccs = np.mean(librosa.feature.mfcc(y=X, sr=sample_rate, n_mfcc=40).T, axis=0)\n",
    "    chroma = np.mean(librosa.feature.chroma_stft(S=stft, sr=sample_rate).T, axis=0)\n",
    "    mel = np.mean(librosa.feature.melspectrogram(X, sr=sample_rate).T, axis=0)\n",
    "    contrast = np.mean(librosa.feature.spectral_contrast(S=stft, sr=sample_rate).T, axis=0)\n",
    "    tonnetz = np.mean(librosa.feature.tonnetz(y=librosa.effects.harmonic(X),\n",
    "                                              sr=sample_rate).T, axis=0)\n",
    "    return mfccs, chroma, mel, contrast, tonnetz\n",
    "\n",
    "\n",
    "# List to store file names\n",
    "target_files = []\n",
    "\n",
    "# Method to extract label name and extract features from audio file\n",
    "\n",
    "\n",
    "def parse_audio_files(path):\n",
    "    labels = []\n",
    "    features = np.empty((0, 193))\n",
    "    for fn in glob.glob(path):\n",
    "        try:\n",
    "            mfccs, chroma, mel, contrast, tonnetz = extract_feature(fn)\n",
    "        except Exception as e:\n",
    "            print(\"Error encountered while parsing file: \", fn)\n",
    "            continue\n",
    "        ext_features = np.hstack([mfccs, chroma, mel, contrast, tonnetz])\n",
    "        features = np.vstack([features, ext_features])\n",
    "        labels = np.append(labels, fn.split(\"_\")[3].split(\".\")[0])\n",
    "        target_files.append(fn)\n",
    "    return np.array(features), np.array(labels)\n",
    "\n",
    "\n",
    "# Get labels and features of audion file of specified path\n",
    "ts_features, ts_labels = parse_audio_files('./test_sounds_3/*.wav')\n",
    "\n",
    "# Convert features and labels to the pandas Series data type\n",
    "ts_features = np.array(ts_features, dtype=pd.Series)\n",
    "ts_labels = np.array(ts_labels, dtype=pd.Series)\n",
    "\n",
    "# Trained Model file name\n",
    "filename = 'Ensemble_Model_protocol_knn.sav'\n",
    "\n",
    "# Load saved model from file\n",
    "model = pickle.load(open(filename, 'rb'))\n",
    "\n",
    "# Predict the emotion class\n",
    "prediction = model.predict(ts_features)\n",
    "\n",
    "# True labels\n",
    "test_true = ts_labels\n",
    "\n",
    "# List to store prediction\n",
    "test_predicted = []\n",
    "\n",
    "# Iterate over model prediction and store it into list\n",
    "for i, val in enumerate(prediction):\n",
    "    test_predicted.append(val)\n",
    "\n",
    "\n",
    "# Accuracy score of model\n",
    "print('Accuracy Score:', accuracy_score(test_true, test_predicted))\n",
    "\n",
    "# Number of corrected prediction\n",
    "print('Number of correct prediction:', accuracy_score(test_true, test_predicted, normalize=False), 'out of', len(ts_labels))\n",
    "\n",
    "# Plotting confusion matrix\n",
    "# matrix = confusion_matrix(test_true, test_predicted)\n",
    "# classes = list(set(ts_labels))\n",
    "# classes.sort()\n",
    "# df = pd.DataFrame(matrix, columns=classes, index=classes)\n",
    "# plt.figure()\n",
    "# sn.heatmap(df, annot=True)\n",
    "\n",
    "# plt.show()"
   ]
  },
  {
   "cell_type": "code",
   "execution_count": null,
   "metadata": {
    "collapsed": true
   },
   "outputs": [],
   "source": []
  }
 ],
 "metadata": {
  "anaconda-cloud": {},
  "kernelspec": {
   "display_name": "Python [default]",
   "language": "python",
   "name": "python3"
  },
  "language_info": {
   "codemirror_mode": {
    "name": "ipython",
    "version": 3
   },
   "file_extension": ".py",
   "mimetype": "text/x-python",
   "name": "python",
   "nbconvert_exporter": "python",
   "pygments_lexer": "ipython3",
   "version": "3.5.2"
  }
 },
 "nbformat": 4,
 "nbformat_minor": 1
}
